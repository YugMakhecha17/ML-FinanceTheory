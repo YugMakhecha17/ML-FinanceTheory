{
  "cells": [
    {
      "cell_type": "markdown",
      "metadata": {
        "id": "zOEAIiXTwZhE"
      },
      "source": [
        "# **Financial Supervised FineTuning For Finance with Machine Learning**"
      ]
    },
    {
      "cell_type": "code",
      "execution_count": null,
      "metadata": {
        "id": "dkt3azI5y0Ah"
      },
      "outputs": [],
      "source": [
        "!pip install chromadb sentence-transformers langchain transformers"
      ]
    },
    {
      "cell_type": "code",
      "execution_count": null,
      "metadata": {
        "id": "0PuTkMZdziFX"
      },
      "outputs": [],
      "source": [
        "!pip install -U langchain-community"
      ]
    },
    {
      "cell_type": "code",
      "execution_count": 4,
      "metadata": {
        "id": "ZBqjaIPkzbzr"
      },
      "outputs": [],
      "source": [
        "import os\n",
        "from langchain.text_splitter import RecursiveCharacterTextSplitter\n",
        "from langchain.embeddings import HuggingFaceEmbeddings\n",
        "from langchain.vectorstores import Chroma\n",
        "from langchain.llms import HuggingFacePipeline\n",
        "from langchain.chains import RetrievalQA\n",
        "from transformers import pipeline, AutoTokenizer, AutoModelForCausalLM\n",
        "from langchain.schema import Document"
      ]
    },
    {
      "cell_type": "markdown",
      "metadata": {
        "id": "F2v-49Byzy_8"
      },
      "source": [
        " **1. Loading the Financial Theory Dataset. In this specific part, you can derive your own market theory or you can use a bunch of sources to make one. Theories are essential in any market predictions.**"
      ]
    },
    {
      "cell_type": "code",
      "execution_count": 6,
      "metadata": {
        "id": "4nU4LOJ8wFHN"
      },
      "outputs": [],
      "source": [
        "with open(\"/content/MLTheoryForFinance.txt\", \"r\", encoding=\"utf-8\") as f:\n",
        "    book_text = f.read()"
      ]
    },
    {
      "cell_type": "markdown",
      "metadata": {
        "id": "qOOff7zq0nk8"
      },
      "source": [
        "**2. Splitting Text into Chunks**"
      ]
    },
    {
      "cell_type": "code",
      "execution_count": 7,
      "metadata": {
        "id": "rW8Kzn0z0kTj"
      },
      "outputs": [],
      "source": [
        "splitter = RecursiveCharacterTextSplitter(chunk_size=800, chunk_overlap=100)\n",
        "chunks = splitter.split_text(book_text)\n",
        "documents = [Document(page_content=chunk) for chunk in chunks]"
      ]
    },
    {
      "cell_type": "markdown",
      "metadata": {
        "id": "m09-HCms0zPj"
      },
      "source": [
        "**3. Generating Embeddings**"
      ]
    },
    {
      "cell_type": "code",
      "execution_count": null,
      "metadata": {
        "id": "TDkn83hW08YS"
      },
      "outputs": [],
      "source": [
        "embedding_model = HuggingFaceEmbeddings(model_name=\"sentence-transformers/all-MiniLM-L6-v2\")"
      ]
    },
    {
      "cell_type": "markdown",
      "metadata": {
        "id": "3exKo0fJ1qH0"
      },
      "source": [
        "**4. Creating the Vector Database. For this I am using ChromaDB, because it is ideal for scalable RAG Applications**"
      ]
    },
    {
      "cell_type": "code",
      "execution_count": 10,
      "metadata": {
        "colab": {
          "base_uri": "https://localhost:8080/"
        },
        "id": "yfjolXlL1ZmU",
        "outputId": "d681dcbc-a642-487d-eb89-9fc36dad7177"
      },
      "outputs": [
        {
          "name": "stderr",
          "output_type": "stream",
          "text": [
            "<ipython-input-10-145acf54e9d6>:2: LangChainDeprecationWarning: Since Chroma 0.4.x the manual persistence method is no longer supported as docs are automatically persisted.\n",
            "  vectordb.persist()\n"
          ]
        }
      ],
      "source": [
        "vectordb = Chroma.from_documents(documents, embedding_model, persist_directory=\"./finance_chroma\")\n",
        "vectordb.persist()"
      ]
    },
    {
      "cell_type": "markdown",
      "metadata": {
        "id": "KC7r4t0X19W-"
      },
      "source": [
        "**5. Loading the LLM for intelligence**"
      ]
    },
    {
      "cell_type": "code",
      "execution_count": null,
      "metadata": {
        "id": "5MYhqrcT7dTX"
      },
      "outputs": [],
      "source": [
        "from huggingface_hub import login\n",
        "\n",
        "# Paste your HuggingFace token here\n",
        "login(\"add-your-key\")\n"
      ]
    },
    {
      "cell_type": "markdown",
      "metadata": {
        "id": "dNBas8xo85Kn"
      },
      "source": [
        "**Here, i am using an Open Model for quicker model building without waiting for a request approval. You can use any model you prefer**"
      ]
    },
    {
      "cell_type": "code",
      "execution_count": null,
      "metadata": {
        "id": "LaUl5bNH18kR"
      },
      "outputs": [],
      "source": [
        "llm_name = \"tiiuae/falcon-rw-1b\"\n",
        "tokenizer = AutoTokenizer.from_pretrained(llm_name)\n",
        "model = AutoModelForCausalLM.from_pretrained(llm_name)\n",
        "\n",
        "pipe = pipeline(\"text-generation\", model=model, tokenizer=tokenizer, max_new_tokens=512, temperature=0.7, do_sample=True)\n",
        "llm = HuggingFacePipeline(pipeline=pipe)"
      ]
    },
    {
      "cell_type": "code",
      "execution_count": 12,
      "metadata": {
        "id": "nJdc9sYQ659p"
      },
      "outputs": [],
      "source": [
        "qa = RetrievalQA.from_chain_type(\n",
        "    llm=llm,\n",
        "    retriever=vectordb.as_retriever(search_kwargs={\"k\": 3}),\n",
        "    chain_type=\"stuff\"\n",
        ")"
      ]
    },
    {
      "cell_type": "code",
      "execution_count": null,
      "metadata": {
        "colab": {
          "base_uri": "https://localhost:8080/"
        },
        "id": "NgKt0NlG8b5F",
        "outputId": "c43029a3-c4ee-4750-cd44-ddd392467a4d"
      },
      "outputs": [
        {
          "name": "stdout",
          "output_type": "stream",
          "text": [
            "\n",
            "Ask a finance question (or type 'exit'): How does ML work in Finance?\n"
          ]
        },
        {
          "name": "stderr",
          "output_type": "stream",
          "text": [
            "<ipython-input-13-1f927549e324>:5: LangChainDeprecationWarning: The method `Chain.run` was deprecated in langchain 0.1.0 and will be removed in 1.0. Use :meth:`~invoke` instead.\n",
            "  answer = qa.run(query)\n",
            "Setting `pad_token_id` to `eos_token_id`:2 for open-end generation.\n"
          ]
        },
        {
          "name": "stdout",
          "output_type": "stream",
          "text": [
            "\n",
            "📘 Answer: Use the following pieces of context to answer the question at the end. If you don't know the answer, just say that you don't know, don't try to make up an answer.\n",
            "\n",
            "Dimensionality reduction for theory structuring\n",
            "\n",
            "Pattern retrieval from unstructured big data\n",
            "\n",
            "\"The most insightful use of ML in finance is for discovering theories.\"\n",
            "\n",
            "The book advocates for a symbiotic relationship between theory and ML, where:\n",
            "\n",
            "Theory provides discipline and structure.\n",
            "\n",
            "ML enables discovery and flexibility.\n",
            "\n",
            "How ML Aids in Building Theory\n",
            "ML Separates Variable Discovery from Specification\n",
            "\n",
            "ML can uncover relevant variables without specifying the functional form.\n",
            "\n",
            "Econometrics typically couples variable and specification search, which may fail in high-dimensional or nonlinear scenarios.\n",
            "\n",
            "Stages in Theory Discovery via ML:\n",
            "\n",
            "Stage 1: Use ML to uncover variables or patterns.\n",
            "\n",
            "Stage 2: Formulate a theory using these variables.\n",
            "\n",
            "Stage 3: Test the theory for both factual and counterfactual implications.\n",
            "\n",
            "ML Applications in Scientific Research (as applied to theory):\n",
            "\n",
            "Existence testing (e.g., hints at undiscovered theorems)\n",
            "\n",
            "Feature importance analysis\n",
            "\n",
            "Causal inference estimation\n",
            "\n",
            "Dimensionality reduction for theory structuring\n",
            "\n",
            "Pattern retrieval from unstructured big data\n",
            "\n",
            "Question: How does ML work in Finance?\n",
            "Helpful Answer:\n",
            "The answer is simple. ML can be used to uncover relevant variables or patterns. ML also enables finding theory-like patterns. This is important for finding meaningful patterns in large, heterogeneous, and noisy data. ML is a powerful tool for finding meaningful patterns in big data.\n",
            "ML can also be used to find the most important variables and patterns in large-scale data. This is helpful in a number of ways. It enables identifying the relevant variables and generating the most important theoretical model, and it helps avoid overfitting. The most important thing is that ML can be used to generate theory, which is the idea behind ML in finance.\n",
            "Why ML is Important for Finance\n",
            "This is a very simple answer. ML is extremely important for finance because ML can be used to uncover relevant variables. Many large-scale datasets are noisy, i.e., they are heterogeneous and contain many variables that are not important. The key to using ML is to find the most important variables, which can be done by using ML. This is important because ML is a powerful tool for finding meaningful patterns in large-scale data.\n",
            "What is ML in Finance, and why is it important?\n",
            "ML in finance is important because ML can be used to uncover relevant variables. ML can be used to uncover relevant variables or patterns from big datasets, and ML can be used to generate theory. ML is an important tool used by financial professionals because ML helps them find the most important variables and generate the most important theory.\n",
            "In this course, we will explore the different types of financial data and how it can be used to inform theories. We will explore the different types of financial data and how it can be used to inform theories.\n",
            "Dimensionality reduction for theory structuring\n",
            "Dimensionality reduction is the process of identifying variables or patterns in large-scale datasets, which is an important part of theory structuring. It is done by leveraging the power of machine learning (ML).\n",
            "Dimensionality reduction is a process of identifying variables or patterns in large-scale datasets, which is an important part of theory structuring. It is done by leveraging the power of machine learning (ML).\n",
            "Pattern retrieval from unstructured big data\n",
            "In this course, we will explore the different types of financial data and how it can be used to inform theories. We will explore the different types of financial data and how it can be used to inform theories.\n",
            "Dimensionality reduction for theory structuring\n",
            "Dimensionality reduction is the process of identifying variables or patterns\n"
          ]
        }
      ],
      "source": [
        "while True:\n",
        "    query = input(\"\\nAsk a finance question (or type 'exit'): \")\n",
        "    if query.lower() == \"exit\":\n",
        "        break\n",
        "    answer = qa.run(query)\n",
        "    print(f\"\\n📘 Answer: {answer}\")"
      ]
    }
  ],
  "metadata": {
    "accelerator": "GPU",
    "colab": {
      "gpuType": "T4",
      "provenance": []
    },
    "kernelspec": {
      "display_name": "Python 3",
      "name": "python3"
    },
    "language_info": {
      "name": "python"
    }
  },
  "nbformat": 4,
  "nbformat_minor": 0
}
